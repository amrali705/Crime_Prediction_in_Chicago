{
 "cells": [
  {
   "cell_type": "code",
   "execution_count": null,
   "id": "9c9c1b2b",
   "metadata": {},
   "outputs": [
    {
     "name": "stdout",
     "output_type": "stream",
     "text": [
      "Accuracy 0.9250810165444312\n",
      "Train Acc 0.9283848753291333\n",
      "Cross Validation Scores: [0.92599778 0.92940901 0.92870544 0.92687035 0.92013304]\n",
      "Average Cross Validation Scores: 0.926223123841847\n",
      "Confusion Matrix:\n",
      "[[41107   303]\n",
      " [ 3211  2283]]\n",
      "Precision: 0.9051884979355593\n",
      "Recall: 0.7041135784492173\n",
      "F1 Score: 0.7620544508258216\n"
     ]
    },
    {
     "data": {
      "text/plain": [
       "['knn_model.pkl']"
      ]
     },
     "execution_count": 1,
     "metadata": {},
     "output_type": "execute_result"
    }
   ],
   "source": [
    "import pandas as pd\n",
    "from sklearn.model_selection import train_test_split, cross_val_score\n",
    "from sklearn.neighbors import KNeighborsClassifier\n",
    "from sklearn.metrics import accuracy_score, confusion_matrix, precision_score, f1_score, recall_score\n",
    "import joblib\n",
    "\n",
    "########## Accuracy 0.9250810165444312 ##########\n",
    "########## Train Accuracy 0.9283848753291333 ##########\n",
    "\n",
    "\n",
    "# Load Data\n",
    "dataSet = pd.read_csv(\"Crime_processed1.csv\")\n",
    "\n",
    "totalFeatures = dataSet.drop(columns=['Arrest'])\n",
    "targetFeature = dataSet['Arrest']\n",
    "\n",
    "testSize = 0.2\n",
    "randomState = 42\n",
    "xTrain, xTest, yTrain, yTest = train_test_split(totalFeatures, targetFeature, test_size = testSize, random_state = randomState)\n",
    "\n",
    "# Choose K Neighbours\n",
    "k = 15\n",
    "knn = KNeighborsClassifier(n_neighbors = k)\n",
    "\n",
    "# Train The Model\n",
    "knn.fit(xTrain, yTrain)\n",
    "\n",
    "# Test The Model\n",
    "yPredicted = knn.predict(xTest)\n",
    "\n",
    "\n",
    "accuracy = accuracy_score(yTest, yPredicted)\n",
    "print(\"Accuracy\", accuracy)\n",
    "\n",
    "train_acc = accuracy_score(yTrain, knn.predict(xTrain))\n",
    "print(\"Train Acc\", train_acc)\n",
    "\n",
    "cv_scores = cross_val_score(knn, totalFeatures, targetFeature, cv=5, scoring='accuracy')\n",
    "\n",
    "print(\"Cross Validation Scores:\", cv_scores)\n",
    "print(\"Average Cross Validation Scores:\", cv_scores.mean())\n",
    "\n",
    "cm = confusion_matrix(yTest, yPredicted)\n",
    "\n",
    "precision = precision_score(yTest, yPredicted, average='macro')\n",
    "\n",
    "recall = recall_score(yTest, yPredicted, average='macro')\n",
    "\n",
    "f1 = f1_score(yTest, yPredicted, average='macro')\n",
    "\n",
    "print(\"Confusion Matrix:\")\n",
    "print(cm)\n",
    "print(\"Precision:\", precision)\n",
    "print(\"Recall:\", recall)\n",
    "print(\"F1 Score:\", f1)\n",
    "joblib.dump(knn, 'knn_model.pkl')"
   ]
  },
  {
   "cell_type": "code",
   "execution_count": null,
   "id": "eb9542cf",
   "metadata": {},
   "outputs": [
    {
     "name": "stderr",
     "output_type": "stream",
     "text": [
      "c:\\Users\\amral\\anaconda3\\Lib\\site-packages\\sklearn\\preprocessing\\_encoders.py:242: UserWarning: Found unknown categories in columns [0] during transform. These unknown categories will be encoded as all zeros\n",
      "  warnings.warn(\n"
     ]
    },
    {
     "name": "stdout",
     "output_type": "stream",
     "text": [
      "Train Predicted [1 0 0 ... 0 0 0]\n",
      "Accuracy 0.9288606504415249\n"
     ]
    },
    {
     "data": {
      "text/plain": [
       "['knn_model.pkl']"
      ]
     },
     "execution_count": 4,
     "metadata": {},
     "output_type": "execute_result"
    }
   ],
   "source": [
    "import pandas as pd\n",
    "from sklearn.model_selection import train_test_split, cross_val_score\n",
    "from sklearn.neighbors import KNeighborsClassifier\n",
    "from sklearn.metrics import accuracy_score, confusion_matrix, precision_score, f1_score, recall_score\n",
    "from sklearn.preprocessing import OneHotEncoder, StandardScaler\n",
    "from sklearn.compose import ColumnTransformer\n",
    "from sklearn.pipeline import Pipeline\n",
    "import joblib\n",
    "\n",
    "########## Accuracy 0.9250810165444312 ##########\n",
    "########## Train Accuracy 0.9283848753291333 ##########\n",
    "\n",
    "\n",
    "# Load Data\n",
    "dataSet =pd.read_csv('Crime_processed_no_outliers.csv')\n",
    "\n",
    "totalFeatures = dataSet[['IUCR', 'Primary Type', 'Longitude', 'Latitude', 'Day', 'Hour']]\n",
    "targetFeature = dataSet['Arrest']\n",
    "\n",
    "categorical_cols = ['IUCR', 'Primary Type', 'Day']\n",
    "numerical_cols = ['Longitude', 'Latitude', 'Hour']\n",
    "preprocessor = ColumnTransformer(transformers=[\n",
    "    ('num', StandardScaler(), numerical_cols),\n",
    "    ('cat', OneHotEncoder(drop='first', handle_unknown='ignore'), categorical_cols)\n",
    "])\n",
    "\n",
    "\n",
    "xTrain, xTest, yTrain, yTest = train_test_split(totalFeatures, targetFeature, test_size = 0.2, random_state = 42)\n",
    "\n",
    "# Choose K Neighbours\n",
    "\n",
    "knn =Pipeline([\n",
    "    ('preprocessor', preprocessor),\n",
    "    ('knn', KNeighborsClassifier(n_neighbors = 15))\n",
    "])\n",
    "# Train The Model\n",
    "knn.fit(xTrain, yTrain)\n",
    "\n",
    "yPredicted = knn.predict(xTest)\n",
    "yPredicted_train = knn.predict(xTrain)\n",
    "print(\"Train Predicted\", yPredicted_train)\n",
    "train_accuracy = accuracy_score(yTrain, yPredicted_train)\n",
    "print(\"Train Accuracy\", train_accuracy)\n",
    "accuracy = accuracy_score(yTest, yPredicted)\n",
    "print(\"Accuracy\", accuracy)\n",
    "\n",
    "# cv_scores = cross_val_score(knn, totalFeatures, targetFeature, cv=5, scoring='accuracy')\n",
    "\n",
    "# print(\"Cross Validation Scores:\", cv_scores)\n",
    "# print(\"Average Cross Validation Scores:\", cv_scores.mean())\n",
    "\n",
    "# cm = confusion_matrix(yTest, yPredicted)\n",
    "\n",
    "# precision = precision_score(yTest, yPredicted, average='macro')\n",
    "\n",
    "# recall = recall_score(yTest, yPredicted, average='macro')\n",
    "\n",
    "# f1 = f1_score(yTest, yPredicted, average='macro')\n",
    "\n",
    "# print(\"Confusion Matrix:\")\n",
    "# print(cm)\n",
    "# print(\"Precision:\", precision)\n",
    "# print(\"Recall:\", recall)\n",
    "# print(\"F1 Score:\", f1)\n",
    "joblib.dump(knn, 'knn_model.pkl')"
   ]
  },
  {
   "cell_type": "code",
   "execution_count": null,
   "id": "6e488735",
   "metadata": {},
   "outputs": [],
   "source": []
  }
 ],
 "metadata": {
  "kernelspec": {
   "display_name": "base",
   "language": "python",
   "name": "python3"
  },
  "language_info": {
   "codemirror_mode": {
    "name": "ipython",
    "version": 3
   },
   "file_extension": ".py",
   "mimetype": "text/x-python",
   "name": "python",
   "nbconvert_exporter": "python",
   "pygments_lexer": "ipython3",
   "version": "3.12.7"
  }
 },
 "nbformat": 4,
 "nbformat_minor": 5
}
