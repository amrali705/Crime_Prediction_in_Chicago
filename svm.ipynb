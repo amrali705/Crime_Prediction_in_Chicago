{
 "cells": [
  {
   "cell_type": "code",
   "execution_count": null,
   "id": "2d432eeb",
   "metadata": {},
   "outputs": [
    {
     "name": "stdout",
     "output_type": "stream",
     "text": [
      "Accuracy: 0.8954555244454017\n",
      "Classification Report:\n",
      "               precision    recall  f1-score   support\n",
      "\n",
      "           0       0.90      1.00      0.94     41075\n",
      "           1       0.81      0.12      0.21      5355\n",
      "\n",
      "    accuracy                           0.90     46430\n",
      "   macro avg       0.85      0.56      0.58     46430\n",
      "weighted avg       0.89      0.90      0.86     46430\n",
      "\n"
     ]
    },
    {
     "data": {
      "text/plain": [
       "['svm_pipeline_model.pkl']"
      ]
     },
     "execution_count": 10,
     "metadata": {},
     "output_type": "execute_result"
    }
   ],
   "source": [
    "import pandas as pd\n",
    "from sklearn.model_selection import train_test_split\n",
    "from sklearn.pipeline import Pipeline\n",
    "from sklearn.preprocessing import StandardScaler, OrdinalEncoder\n",
    "from sklearn.svm import SVC\n",
    "from sklearn.metrics import classification_report, accuracy_score\n",
    "import joblib\n",
    "\n",
    "df = pd.read_csv(\"Crime_processed_no_outliers.csv\")\n",
    "\n",
    "X = df.drop(columns=['Arrest'])\n",
    "y = df['Arrest']\n",
    "\n",
    "X_train, X_test, y_train, y_test = train_test_split(X, y, test_size=0.2, random_state=42)\n",
    "\n",
    "# Create pipeline with scaler and SVM\n",
    "pipeline = Pipeline([\n",
    "    ('encoding', OrdinalEncoder(handle_unknown='use_encoded_value', unknown_value=-1)),\n",
    "    ('scaler', StandardScaler()),\n",
    "    ('svm', SVC(kernel='rbf'))\n",
    "])\n",
    "\n",
    "# Train pipeline\n",
    "pipeline.fit(X_train, y_train)\n",
    "\n",
    "# Predict and evaluate\n",
    "y_pred = pipeline.predict(X_test)\n",
    "print(\"Accuracy:\", accuracy_score(y_test, y_pred))\n",
    "print(\"Classification Report:\\n\", classification_report(y_test, y_pred))\n",
    "\n",
    "joblib.dump(pipeline, 'svm_pipeline_model.pkl')\n"
   ]
  },
  {
   "cell_type": "code",
   "execution_count": null,
   "id": "c3c5a69a",
   "metadata": {},
   "outputs": [],
   "source": []
  }
 ],
 "metadata": {
  "kernelspec": {
   "display_name": "base",
   "language": "python",
   "name": "python3"
  },
  "language_info": {
   "codemirror_mode": {
    "name": "ipython",
    "version": 3
   },
   "file_extension": ".py",
   "mimetype": "text/x-python",
   "name": "python",
   "nbconvert_exporter": "python",
   "pygments_lexer": "ipython3",
   "version": "3.12.7"
  }
 },
 "nbformat": 4,
 "nbformat_minor": 5
}
