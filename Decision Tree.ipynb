{
 "cells": [
  {
   "cell_type": "code",
   "execution_count": 25,
   "id": "bc71446e",
   "metadata": {},
   "outputs": [
    {
     "name": "stderr",
     "output_type": "stream",
     "text": [
      "c:\\Users\\amral\\anaconda3\\Lib\\site-packages\\sklearn\\preprocessing\\_encoders.py:242: UserWarning: Found unknown categories in columns [0] during transform. These unknown categories will be encoded as all zeros\n",
      "  warnings.warn(\n"
     ]
    },
    {
     "name": "stdout",
     "output_type": "stream",
     "text": [
      "Classification Report on TRAIN data (threshold=0.6):\n",
      "              precision    recall  f1-score   support\n",
      "\n",
      "           0       0.92      1.00      0.96    164280\n",
      "           1       0.95      0.33      0.49     21436\n",
      "\n",
      "    accuracy                           0.92    185716\n",
      "   macro avg       0.93      0.66      0.72    185716\n",
      "weighted avg       0.92      0.92      0.90    185716\n",
      "\n",
      "\n",
      "Classification Report on TEST data (threshold=0.6):\n",
      "              precision    recall  f1-score   support\n",
      "\n",
      "           0       0.92      1.00      0.96     41071\n",
      "           1       0.95      0.33      0.50      5359\n",
      "\n",
      "    accuracy                           0.92     46430\n",
      "   macro avg       0.93      0.67      0.73     46430\n",
      "weighted avg       0.92      0.92      0.90     46430\n",
      "\n",
      "Train Precision: 0.9466\n",
      "Train Recall:    0.3309\n",
      "Train F1-score:  0.4904\n",
      "Test Precision:  0.9482\n",
      "Test Recall:     0.3350\n",
      "Test F1-score:   0.4950\n",
      "\n",
      "Train Accuracy (threshold=0.6): 0.9206\n",
      "Test Accuracy  (threshold=0.6): 0.9211\n"
     ]
    },
    {
     "data": {
      "text/plain": [
       "['decision_tree_pipeline.pkl']"
      ]
     },
     "execution_count": 25,
     "metadata": {},
     "output_type": "execute_result"
    }
   ],
   "source": [
    "import pandas as pd\n",
    "from sklearn.model_selection import train_test_split\n",
    "from sklearn.tree import DecisionTreeClassifier\n",
    "from sklearn.preprocessing import StandardScaler, OneHotEncoder\n",
    "from sklearn.compose import ColumnTransformer\n",
    "from sklearn.pipeline import Pipeline\n",
    "from sklearn.metrics import classification_report, precision_score, recall_score, f1_score, accuracy_score\n",
    "import joblib\n",
    "\n",
    "# 1. Load data\n",
    "df = pd.read_csv('Crime_processed_no_outliers.csv')\n",
    "\n",
    "# 2. Features and target\n",
    "top_features = ['IUCR', 'Primary Type', 'Longitude', 'Latitude', 'Day', 'Hour']\n",
    "X = df[top_features]\n",
    "y = df['Arrest']\n",
    "\n",
    "# 3. Categorical and numerical columns\n",
    "categorical_cols = ['IUCR', 'Primary Type', 'Day']\n",
    "numerical_cols = ['Longitude', 'Latitude', 'Hour']\n",
    "\n",
    "\n",
    "preprocessor = ColumnTransformer(\n",
    "    transformers=[\n",
    "        ('num', StandardScaler(), numerical_cols),\n",
    "        ('cat', OneHotEncoder(drop='first', handle_unknown='ignore'), categorical_cols)\n",
    "    ]\n",
    ")\n",
    "\n",
    "\n",
    "pipeline = Pipeline([\n",
    "    ('preprocessor', preprocessor),\n",
    "    ('classifier', DecisionTreeClassifier(\n",
    "        random_state=42,\n",
    "        criterion='entropy',\n",
    "        class_weight='balanced',\n",
    "        max_depth=5,\n",
    "        min_samples_split=20,\n",
    "        min_samples_leaf=10\n",
    "    ))\n",
    "])\n",
    "\n",
    "\n",
    "X_train, X_test, y_train, y_test = train_test_split(\n",
    "    X, y, test_size=0.2, random_state=42, stratify=y\n",
    ")\n",
    "\n",
    "# 7. Fit pipeline\n",
    "pipeline.fit(X_train, y_train)\n",
    "\n",
    "threshold = 0.6\n",
    "\n",
    "y_train_probs = pipeline.predict_proba(X_train)[:, 1]\n",
    "y_test_probs = pipeline.predict_proba(X_test)[:, 1]\n",
    "\n",
    "\n",
    "y_train_pred_thresh = (y_train_probs >= threshold).astype(int)\n",
    "y_test_pred_thresh = (y_test_probs >= threshold).astype(int)\n",
    "\n",
    "print(f\"Classification Report on TRAIN data (threshold={threshold}):\")\n",
    "print(classification_report(y_train, y_train_pred_thresh))\n",
    "\n",
    "print(f\"\\nClassification Report on TEST data (threshold={threshold}):\")\n",
    "print(classification_report(y_test, y_test_pred_thresh))\n",
    "\n",
    "\n",
    "print(f\"Train Precision: {precision_score(y_train, y_train_pred_thresh):.4f}\")\n",
    "print(f\"Train Recall:    {recall_score(y_train, y_train_pred_thresh):.4f}\")\n",
    "print(f\"Train F1-score:  {f1_score(y_train, y_train_pred_thresh):.4f}\")\n",
    "\n",
    "print(f\"Test Precision:  {precision_score(y_test, y_test_pred_thresh):.4f}\")\n",
    "print(f\"Test Recall:     {recall_score(y_test, y_test_pred_thresh):.4f}\")\n",
    "print(f\"Test F1-score:   {f1_score(y_test, y_test_pred_thresh):.4f}\")\n",
    "\n",
    "\n",
    "train_acc = accuracy_score(y_train, y_train_pred_thresh)\n",
    "test_acc = accuracy_score(y_test, y_test_pred_thresh)\n",
    "print(f\"\\nTrain Accuracy (threshold={threshold}): {train_acc:.4f}\")\n",
    "print(f\"Test Accuracy  (threshold={threshold}): {test_acc:.4f}\")\n",
    "\n",
    "joblib.dump(pipeline, 'decision_tree_pipeline.pkl')\n"
   ]
  },
  {
   "cell_type": "code",
   "execution_count": null,
   "id": "6b21907e",
   "metadata": {},
   "outputs": [],
   "source": []
  }
 ],
 "metadata": {
  "kernelspec": {
   "display_name": "base",
   "language": "python",
   "name": "python3"
  },
  "language_info": {
   "codemirror_mode": {
    "name": "ipython",
    "version": 3
   },
   "file_extension": ".py",
   "mimetype": "text/x-python",
   "name": "python",
   "nbconvert_exporter": "python",
   "pygments_lexer": "ipython3",
   "version": "3.12.7"
  }
 },
 "nbformat": 4,
 "nbformat_minor": 5
}
